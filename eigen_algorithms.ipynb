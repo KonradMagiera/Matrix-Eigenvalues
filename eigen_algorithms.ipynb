{
 "cells": [
  {
   "cell_type": "code",
   "execution_count": 1,
   "metadata": {},
   "outputs": [],
   "source": [
    "using LinearAlgebra\r\n",
    "using Statistics"
   ]
  },
  {
   "cell_type": "code",
   "execution_count": 87,
   "metadata": {},
   "outputs": [
    {
     "data": {
      "text/plain": "random_matrix (generic function with 2 methods)"
     },
     "execution_count": 87,
     "metadata": {},
     "output_type": "execute_result"
    }
   ],
   "source": [
    "# helper methods\r\n",
    "function symetric_matrix(dim::Integer)::Matrix\r\n",
    "    A = ones(dim,dim);\r\n",
    "    for i = 1:dim\r\n",
    "        for j = 1:dim\r\n",
    "            A[i,j] = rand(1:50);\r\n",
    "            A[j,i] = A[i,j];\r\n",
    "        end\r\n",
    "    end\r\n",
    "    return A;\r\n",
    "end\r\n",
    "\r\n",
    "function random_matrix(dim::Integer)::Matrix\r\n",
    "    A = ones(dim, dim);\r\n",
    "    for i = 1:dim\r\n",
    "        for j = 1:dim\r\n",
    "            A[i,j] = rand(1:50)\r\n",
    "        end\r\n",
    "    end\r\n",
    "    return A\r\n",
    "end"
   ]
  },
  {
   "cell_type": "code",
   "execution_count": 82,
   "metadata": {},
   "outputs": [
    {
     "data": {
      "text/plain": "power_eigen (generic function with 1 method)"
     },
     "execution_count": 82,
     "metadata": {},
     "output_type": "execute_result"
    }
   ],
   "source": [
    "# metoda potegowa\r\n",
    "function power_eigen(A::Matrix, iterations::Integer)\r\n",
    "    n = size(A, 1);\r\n",
    "    X = ones(n,1);\r\n",
    "    for i = 1:iterations\r\n",
    "        X = A * X;\r\n",
    "        X = X / norm(X);\r\n",
    "    end\r\n",
    "\r\n",
    "    return X' * A * X / (X' * X);\r\n",
    "end"
   ]
  },
  {
   "cell_type": "code",
   "execution_count": 88,
   "metadata": {},
   "outputs": [
    {
     "name": "stdout",
     "output_type": "stream",
     "text": [
      "[115.53856065171419]"
     ]
    },
    {
     "data": {
      "text/plain": "Eigen{Float64,Float64,Array{Float64,2},Array{Float64,1}}\nvalues:\n5-element Array{Float64,1}:\n -32.71459676170032\n   5.722659256442839\n  16.855723545542844\n  48.59765324080888\n 115.53856071890604\nvectors:\n5×5 Array{Float64,2}:\n  0.413737   0.548215    0.0457852  -0.572626   -0.445293\n  0.118755   0.214229   -0.579248    0.614737   -0.475998\n -0.330785  -0.405049   -0.637096   -0.536189   -0.182006\n -0.571819  -0.0730048   0.473797    0.0696926  -0.662081\n  0.615079  -0.695825    0.178887    0.042924   -0.321966"
     },
     "execution_count": 88,
     "metadata": {},
     "output_type": "execute_result"
    }
   ],
   "source": [
    "A = symetric_matrix(5);\r\n",
    "value = power_eigen(A, 10);\r\n",
    "print(value)\r\n",
    "e, v = eigen(A)"
   ]
  }
 ],
 "metadata": {
  "kernelspec": {
   "display_name": "Julia 1.5.3",
   "language": "julia",
   "name": "julia-1.5"
  },
  "language_info": {
   "file_extension": ".jl",
   "mimetype": "application/julia",
   "name": "julia",
   "version": "1.5.3"
  },
  "orig_nbformat": 2
 },
 "nbformat": 4,
 "nbformat_minor": 2
}