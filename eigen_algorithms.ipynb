{
 "cells": [
  {
   "cell_type": "code",
   "execution_count": 2,
   "metadata": {},
   "outputs": [],
   "source": [
    "using LinearAlgebra\r\n",
    "using Statistics"
   ]
  },
  {
   "cell_type": "code",
   "execution_count": 25,
   "metadata": {},
   "outputs": [
    {
     "data": {
      "text/plain": "custom_cond (generic function with 1 method)"
     },
     "execution_count": 25,
     "metadata": {},
     "output_type": "execute_result"
    }
   ],
   "source": [
    "# helper methods\r\n",
    "function symetric_matrix(dim::Integer)::Matrix\r\n",
    "    A = ones(dim,dim);\r\n",
    "    for i = 1:dim\r\n",
    "        for j = 1:dim\r\n",
    "            A[i,j] = rand(1:50);\r\n",
    "            A[j,i] = A[i,j];\r\n",
    "        end\r\n",
    "    end\r\n",
    "    return A;\r\n",
    "end\r\n",
    "\r\n",
    "function random_matrix(dim::Integer)::Matrix\r\n",
    "    A = ones(dim, dim);\r\n",
    "    for i = 1:dim\r\n",
    "        for j = 1:dim\r\n",
    "            A[i,j] = rand(1:50)\r\n",
    "        end\r\n",
    "    end\r\n",
    "    return A\r\n",
    "end\r\n",
    "\r\n",
    "function custom_cond(λₘₐₓ, λₘᵢₙ)\r\n",
    "    print(\"TODO\")\r\n",
    "end"
   ]
  },
  {
   "cell_type": "markdown",
   "metadata": {},
   "source": [
    "Poniżej przygotowana jest funkcja do metody iteracji prostej (metoda potęgowa), dzięki której można wyznaczyć największą co do modułu wartość własną, czyli promień spektralny macierzy, który opisany jest wzorem:\r\n",
    "## $$\\rho(A) = |\\lambda_{max}| = \\lim_{i \\to \\infty} \\frac{||t_{i+1}||_{\\infty}}{||t_{i}||_{\\infty}}$$\r\n",
    "\r\n",
    "Przy założeniu, że dowolny wektor początkowy t_{0} != 0, do uzyskania promienia spektralnego prowadzą iteracje postaci:\r\n",
    "## $$t_{i+1} = At_{i},\\ i=0,1,2...$$\r\n",
    "\r\n"
   ]
  },
  {
   "cell_type": "code",
   "execution_count": 8,
   "metadata": {},
   "outputs": [
    {
     "data": {
      "text/plain": "power_eigen (generic function with 1 method)"
     },
     "execution_count": 8,
     "metadata": {},
     "output_type": "execute_result"
    }
   ],
   "source": [
    "# metoda potegowa\r\n",
    "function power_eigen(A::Matrix, iterations::Integer)::Array\r\n",
    "    n = size(A, 1);\r\n",
    "    X = ones(n,1);\r\n",
    "    for i = 1:iterations\r\n",
    "        X = A * X;\r\n",
    "        X = X / norm(X);\r\n",
    "    end\r\n",
    "\r\n",
    "    return X' * A * X / (X' * X);\r\n",
    "end"
   ]
  },
  {
   "cell_type": "code",
   "execution_count": 24,
   "metadata": {},
   "outputs": [
    {
     "name": "stdout",
     "output_type": "stream",
     "text": [
      "  0.000055 seconds (27 allocations: 3.219 KiB)\n",
      "[156.55843075252415]"
     ]
    },
    {
     "data": {
      "text/plain": "Eigen{Float64,Float64,Array{Float64,2},Array{Float64,1}}\nvalues:\n5-element Array{Float64,1}:\n -26.96040326411249\n -11.25335022934285\n   5.8855815647038305\n  31.76974117622714\n 156.55843075252423\nvectors:\n5×5 Array{Float64,2}:\n -0.797682    0.274998   0.0589095   0.246338  -0.473208\n  0.425915    0.225063  -0.636115    0.377665  -0.469756\n -0.122094    0.182555  -0.393763   -0.871913  -0.191009\n -0.0544509  -0.884551  -0.0453287  -0.056879  -0.45751\n  0.405497    0.240762   0.659381   -0.18226   -0.55642"
     },
     "execution_count": 24,
     "metadata": {},
     "output_type": "execute_result"
    }
   ],
   "source": [
    "A = symetric_matrix(5);\r\n",
    "@time value = power_eigen(A, 10);\r\n",
    "print(value)\r\n",
    "e, v = eigen(A)"
   ]
  },
  {
   "cell_type": "markdown",
   "metadata": {},
   "source": [
    "Jak widać z wyniku wykonania powyższego kodu, uzyskaliśmy największą co do modułu wartość własną macierzy. Ta wartość zgadza sięz wartością otrzymaną za pomocą metody eigen(A). Za pomocą metody potęgowej można również wyznaczyć najmniejszą co do modułu wartość własną macierzy. Korzysta się z twierdzenia dotyczącego przesunięcia spektrum macierzy:<br />\r\n",
    "### \"Jeżeli $\\lambda$ jest wartością własną macierzy A, to $\\lambda + r$ jest wartością własną macierzy $A + \\tau I$\"\r\n",
    "Po zastosowaniu przesunięcia $B = A - \\lambda_{max}I$ można ponownie zastosować metodę iteracji prostej dla macierzy B zbieżną do największej co do modułu wartości własnej $\\lambda = \\ambda_{min}-\\lambda_{max}$. Stąd można wyznaczyć $\\lambda_{min}$."
   ]
  },
  {
   "cell_type": "code",
   "execution_count": null,
   "metadata": {},
   "outputs": [],
   "source": [
    "# TODO wyznaczenie lambda min"
   ]
  },
  {
   "cell_type": "markdown",
   "metadata": {},
   "source": [
    "Mając największą i najmniejszą wartość własną macierzy, można wyznaczyć współczynnik uwarunkowania macierzy:\r\n",
    "$$cond(A)=\\sqrt{\\frac{\\lambda_{max}(A^TA)}{\\lambda_{min}(A^TA)}}$$\r\n",
    "We wzorze przyjęto, że macierz A jest symetryczna, co oznacza, że $A=A^T$, ewentualnie można macierz wejściową doprowadzić do postaci symetrycznej stosując wzór $B = A^TA$"
   ]
  },
  {
   "cell_type": "code",
   "execution_count": null,
   "metadata": {},
   "outputs": [],
   "source": [
    "# TODO cond(A) #helper method"
   ]
  }
 ],
 "metadata": {
  "kernelspec": {
   "display_name": "Julia 1.5.3",
   "language": "julia",
   "name": "julia-1.5"
  },
  "language_info": {
   "file_extension": ".jl",
   "mimetype": "application/julia",
   "name": "julia",
   "version": "1.5.3"
  },
  "orig_nbformat": 2
 },
 "nbformat": 4,
 "nbformat_minor": 2
}