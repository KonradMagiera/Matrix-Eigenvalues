{
 "cells": [
  {
   "cell_type": "code",
   "execution_count": 1,
   "metadata": {},
   "outputs": [],
   "source": [
    "using LinearAlgebra\r\n",
    "using Statistics"
   ]
  },
  {
   "cell_type": "code",
   "execution_count": 121,
   "metadata": {},
   "outputs": [
    {
     "data": {
      "text/plain": "custom_cond (generic function with 1 method)"
     },
     "execution_count": 121,
     "metadata": {},
     "output_type": "execute_result"
    }
   ],
   "source": [
    "# helper methods\r\n",
    "function symetric_matrix(dim::Integer)::Matrix\r\n",
    "    A = ones(dim,dim);\r\n",
    "    for i = 1:dim\r\n",
    "        for j = 1:dim\r\n",
    "            A[i,j] = rand(1:50);\r\n",
    "            A[j,i] = A[i,j];\r\n",
    "        end\r\n",
    "    end\r\n",
    "    return A;\r\n",
    "end\r\n",
    "\r\n",
    "# we might change it to just rand(dim,dim)\r\n",
    "function random_matrix(dim::Integer)::Matrix\r\n",
    "    A = ones(dim, dim);\r\n",
    "    for i = 1:dim\r\n",
    "        for j = 1:dim\r\n",
    "            A[i,j] = rand(1:50)\r\n",
    "        end\r\n",
    "    end\r\n",
    "    return A\r\n",
    "end\r\n",
    "\r\n",
    "function diagonal_matrix(dim::Integer)::Matrix\r\n",
    "    I = ones(dim,dim)\r\n",
    "    return Diagonal(I)\r\n",
    "end\r\n",
    "\r\n",
    "function custom_cond(λₘₐₓ, λₘᵢₙ)\r\n",
    "    return √(λₘₐₓ/λₘᵢₙ)\r\n",
    "end"
   ]
  },
  {
   "cell_type": "markdown",
   "metadata": {},
   "source": [
    "# Metoda potęgowa"
   ]
  },
  {
   "cell_type": "markdown",
   "metadata": {},
   "source": [
    "Poniżej przygotowana jest funkcja do metody iteracji prostej (metoda potęgowa), dzięki której można wyznaczyć największą co do modułu wartość własną, czyli promień spektralny macierzy, który opisany jest wzorem:\r\n",
    "## $$\\rho(A) = |\\lambda_{max}| = \\lim_{i \\to \\infty} \\frac{||t_{i+1}||_{\\infty}}{||t_{i}||_{\\infty}}$$\r\n",
    "\r\n",
    "Przy założeniu, że dowolny wektor początkowy t_{0} != 0, do uzyskania promienia spektralnego prowadzą iteracje postaci:\r\n",
    "## $$t_{i+1} = At_{i},\\ i=0,1,2...$$\r\n",
    "\r\n"
   ]
  },
  {
   "cell_type": "code",
   "execution_count": 48,
   "metadata": {},
   "outputs": [
    {
     "data": {
      "text/plain": "power_eigen_min (generic function with 1 method)"
     },
     "execution_count": 48,
     "metadata": {},
     "output_type": "execute_result"
    }
   ],
   "source": [
    "function power_eigen(A::Matrix, iterations::Integer)::Array\r\n",
    "    n = size(A, 1);\r\n",
    "    X = ones(n,1);\r\n",
    "    for i = 1:iterations\r\n",
    "        X = A * X;\r\n",
    "        X = X / norm(X);\r\n",
    "    end\r\n",
    "\r\n",
    "    return X' * A * X / (X' * X);\r\n",
    "end\r\n",
    "\r\n",
    "function power_eigen_min(A::Matrix, iterations::Integer)::Array\r\n",
    "    n = size(A, 1);\r\n",
    "    X = ones(n,1);\r\n",
    "    for i = 1:iterations\r\n",
    "        X = A \\ X;\r\n",
    "        X = X / norm(X);\r\n",
    "    end\r\n",
    "\r\n",
    "    return X' * A * X / (X' * X);\r\n",
    "end"
   ]
  },
  {
   "cell_type": "code",
   "execution_count": 78,
   "metadata": {},
   "outputs": [
    {
     "name": "stdout",
     "output_type": "stream",
     "text": [
      "  0.023384 seconds (38.70 k allocations: 1.988 MiB)\n",
      "[148.21815636561124]"
     ]
    },
    {
     "data": {
      "text/plain": "Eigen{Float64,Float64,Array{Float64,2},Array{Float64,1}}\nvalues:\n5-element Array{Float64,1}:\n -41.34773473241207\n -17.235379556224004\n   7.200226098135396\n  48.16473182487727\n 148.21815636562317\nvectors:\n5×5 Array{Float64,2}:\n  0.442534    0.490963   -0.298811  -0.475493   -0.497733\n -0.776593    0.419416    0.15139    0.0744663  -0.438782\n -0.181066   -0.686056    0.151079  -0.573519   -0.380516\n  0.0199452  -0.334484   -0.605532   0.546892   -0.47113\n  0.409737   -0.0222159   0.705903   0.374628   -0.43929"
     },
     "execution_count": 78,
     "metadata": {},
     "output_type": "execute_result"
    }
   ],
   "source": [
    "A = symetric_matrix(5);\r\n",
    "#A = [22 21 -8 4; 21 49 11 39; -8 11 60 -19; 4 39 -19 135]\r\n",
    "@time λₘₐₓ = power_eigen(A, 10);\r\n",
    "print(λₘₐₓ)\r\n",
    "e, v = eigen(A)"
   ]
  },
  {
   "cell_type": "markdown",
   "metadata": {},
   "source": [
    "Jak widać z wyniku wykonania powyższego kodu, uzyskaliśmy największą co do modułu wartość własną macierzy. Ta wartość zgadza sięz wartością otrzymaną za pomocą metody eigen(A). Za pomocą metody potęgowej można również wyznaczyć najmniejszą co do modułu wartość własną macierzy. Korzysta się z twierdzenia dotyczącego przesunięcia spektrum macierzy:<br />\r\n",
    "### \"Jeżeli $\\lambda$ jest wartością własną macierzy A, to $\\lambda + r$ jest wartością własną macierzy $A + \\tau I$\"\r\n",
    "Należy pamiętać, że twierdzenie ma zastosowanie dla macierzy symetrycznych i dodatnio określonych. Po zastosowaniu przesunięcia $B = A - \\lambda_{max}I$ można ponownie zastosować metodę iteracji prostej dla macierzy B zbieżną do największej co do modułu wartości własnej $\\lambda = \\lambda_{min}-\\lambda_{max}$. Stąd można wyznaczyć $\\lambda_{min}$."
   ]
  },
  {
   "cell_type": "code",
   "execution_count": 79,
   "metadata": {},
   "outputs": [
    {
     "data": {
      "text/plain": "1×1 Array{Float64,2}:\n 7.200226098135385"
     },
     "execution_count": 79,
     "metadata": {},
     "output_type": "execute_result"
    }
   ],
   "source": [
    "I = diagonal_matrix(size(A,1))\r\n",
    "#B = C - λₘₐₓ .* I\r\n",
    "#λ = power_eigen(B, 10);\r\n",
    "#λₘᵢₙ = λ + λₘₐₓ\r\n",
    "#print(λₘᵢₙ)\r\n",
    "λₘᵢₙ = power_eigen_min(A,20)"
   ]
  },
  {
   "cell_type": "markdown",
   "metadata": {},
   "source": [
    "Mając największą i najmniejszą wartość własną macierzy, można wyznaczyć współczynnik uwarunkowania macierzy:\r\n",
    "$$cond(A)=\\sqrt{\\frac{\\lambda_{max}(A^TA)}{\\lambda_{min}(A^TA)}}$$\r\n",
    "We wzorze przyjęto, że macierz A jest symetryczna, co oznacza, że $A=A^T$, ewentualnie można macierz wejściową doprowadzić do postaci symetrycznej stosując wzór $B = A^TA$"
   ]
  },
  {
   "cell_type": "code",
   "execution_count": 80,
   "metadata": {},
   "outputs": [
    {
     "name": "stdout",
     "output_type": "stream",
     "text": [
      "[4.537092529735147]"
     ]
    },
    {
     "data": {
      "text/plain": "4.537092529735323"
     },
     "execution_count": 80,
     "metadata": {},
     "output_type": "execute_result"
    }
   ],
   "source": [
    "value = custom_cond(λₘₐₓ, λₘᵢₙ)\r\n",
    "print(value)\r\n",
    "\r\n",
    "√cond(A)\r\n"
   ]
  },
  {
   "cell_type": "markdown",
   "metadata": {},
   "source": [
    "# Metoda Jacobiego"
   ]
  },
  {
   "cell_type": "code",
   "execution_count": 122,
   "metadata": {},
   "outputs": [
    {
     "data": {
      "text/plain": "maxst (generic function with 3 methods)"
     },
     "execution_count": 122,
     "metadata": {},
     "output_type": "execute_result"
    }
   ],
   "source": [
    "function jacobi_eigen(A::Matrix, iterations::Integer)\r\n",
    "    n = size(A,1);\r\n",
    "    for i = 1:iterations\r\n",
    "        s,t = maxst(A);\r\n",
    "        \r\n",
    "        d = √((A[s,s] - A[t,t])^2 + 4 * A[s,t]^2);\r\n",
    "        sin2t = 2 * A[s,t] / d;\r\n",
    "        cos2t = (A[s,s] - A[t,t]) / d;\r\n",
    "        dt = √(2 * (1 + cos2t));\r\n",
    "        sint = abs(sin2t) / dt;\r\n",
    "        cost = abs((1 + cos2t) / dt);\r\n",
    "        cost = sign(A[s,t]) * cost;\r\n",
    "\r\n",
    "        R = diagonal_matrix(n);\r\n",
    "        R[s,s] = cost;\r\n",
    "        R[t,t] = cost;\r\n",
    "        R[s,t] = -sint;\r\n",
    "        R[t,s] = sint;\r\n",
    "        \r\n",
    "        A = R' * A * R; \r\n",
    "        \r\n",
    "    end\r\n",
    "    return A\r\n",
    "end\r\n",
    "\r\n",
    "function maxst(A::Matrix)\r\n",
    "    s = 1;\r\n",
    "    t = 2;\r\n",
    "    n = size(A,1);\r\n",
    "    for c = 2:n\r\n",
    "        for r = 1:c-1\r\n",
    "            if abs(A[r,c]) > abs(A[s,t])\r\n",
    "                s = r;\r\n",
    "                t = c;\r\n",
    "            end\r\n",
    "        end\r\n",
    "    end\r\n",
    "    return s, t\r\n",
    "end"
   ]
  },
  {
   "cell_type": "code",
   "execution_count": 267,
   "metadata": {},
   "outputs": [
    {
     "data": {
      "text/plain": "4×4 Array{Float64,2}:\n  1.86449   -0.000603977  -0.00106943  -0.000572329\n -0.726941   0.360242     -0.0489468    0.00517663\n  0.244309   0.116424      0.161888     0.00497935\n  0.678177  -0.194209     -0.191085    -0.287318"
     },
     "metadata": {},
     "output_type": "display_data"
    },
    {
     "data": {
      "text/plain": "4-element Array{Float64,1}:\n -0.2837619520283921\n  0.19643766676891092\n  0.3221619923789694\n  1.8644618064886556"
     },
     "metadata": {},
     "output_type": "display_data"
    }
   ],
   "source": [
    "#F = [12 6 -6 1; 6 16 2 100; -6 2 16 1 ;1 100 1 4];\r\n",
    "F = rand(4,4);\r\n",
    "FJ = jacobi_eigen(F, 15);\r\n",
    "FJ[abs.(FJ) .< 1e-10] .= 0.0;\r\n",
    "display(FJ)\r\n",
    "e,v = eigen(F);\r\n",
    "display(e)\r\n"
   ]
  }
 ],
 "metadata": {
  "kernelspec": {
   "display_name": "Julia 1.5.3",
   "language": "julia",
   "name": "julia-1.5"
  },
  "language_info": {
   "file_extension": ".jl",
   "mimetype": "application/julia",
   "name": "julia",
   "version": "1.5.3"
  },
  "orig_nbformat": 2
 },
 "nbformat": 4,
 "nbformat_minor": 2
}