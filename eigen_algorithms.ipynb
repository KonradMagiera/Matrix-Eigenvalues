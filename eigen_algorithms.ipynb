{
 "cells": [
  {
   "cell_type": "code",
   "execution_count": 1,
   "metadata": {},
   "outputs": [],
   "source": [
    "using LinearAlgebra\r\n",
    "using Statistics"
   ]
  },
  {
   "cell_type": "code",
   "execution_count": 47,
   "metadata": {},
   "outputs": [
    {
     "data": {
      "text/plain": "custom_cond (generic function with 1 method)"
     },
     "execution_count": 47,
     "metadata": {},
     "output_type": "execute_result"
    }
   ],
   "source": [
    "# helper methods\r\n",
    "function symetric_matrix(dim::Integer)::Matrix\r\n",
    "    A = ones(dim,dim);\r\n",
    "    for i = 1:dim\r\n",
    "        for j = 1:dim\r\n",
    "            A[i,j] = rand(-50:50);\r\n",
    "            A[j,i] = A[i,j];\r\n",
    "        end\r\n",
    "    end\r\n",
    "    return A;\r\n",
    "end\r\n",
    "\r\n",
    "function random_matrix(dim::Integer)::Matrix\r\n",
    "    A = ones(dim, dim);\r\n",
    "    for i = 1:dim\r\n",
    "        for j = 1:dim\r\n",
    "            A[i,j] = rand(-50:50)\r\n",
    "        end\r\n",
    "    end\r\n",
    "    return A\r\n",
    "end\r\n",
    "\r\n",
    "function diagonal_matrix(dim::Integer)::Matrix\r\n",
    "    I = ones(dim,dim)\r\n",
    "    return Diagonal(I)\r\n",
    "end\r\n",
    "\r\n",
    "function custom_cond(λₘₐₓ, λₘᵢₙ)\r\n",
    "    return √(λₘₐₓ/λₘᵢₙ)\r\n",
    "end"
   ]
  },
  {
   "cell_type": "markdown",
   "metadata": {},
   "source": [
    "Poniżej przygotowana jest funkcja do metody iteracji prostej (metoda potęgowa), dzięki której można wyznaczyć największą co do modułu wartość własną, czyli promień spektralny macierzy, który opisany jest wzorem:\r\n",
    "## $$\\rho(A) = |\\lambda_{max}| = \\lim_{i \\to \\infty} \\frac{||t_{i+1}||_{\\infty}}{||t_{i}||_{\\infty}}$$\r\n",
    "\r\n",
    "Przy założeniu, że dowolny wektor początkowy t_{0} != 0, do uzyskania promienia spektralnego prowadzą iteracje postaci:\r\n",
    "## $$t_{i+1} = At_{i},\\ i=0,1,2...$$\r\n",
    "\r\n"
   ]
  },
  {
   "cell_type": "code",
   "execution_count": 13,
   "metadata": {},
   "outputs": [
    {
     "data": {
      "text/plain": "power_eigen (generic function with 1 method)"
     },
     "execution_count": 13,
     "metadata": {},
     "output_type": "execute_result"
    }
   ],
   "source": [
    "# metoda potegowa\r\n",
    "function power_eigen(A::Matrix, iterations::Integer)::Array\r\n",
    "    n = size(A, 1);\r\n",
    "    X = ones(n,1);\r\n",
    "    for i = 1:iterations\r\n",
    "        X = A * X;\r\n",
    "        X = X / norm(X);\r\n",
    "    end\r\n",
    "\r\n",
    "    return X' * A * X / (X' * X);\r\n",
    "end"
   ]
  },
  {
   "cell_type": "code",
   "execution_count": 55,
   "metadata": {},
   "outputs": [
    {
     "name": "stdout",
     "output_type": "stream",
     "text": [
      "  0.000024 seconds (67 allocations: 5.062 KiB)\n",
      "[153.28186736316832]"
     ]
    },
    {
     "data": {
      "text/plain": "Eigen{Float64,Float64,Array{Float64,2},Array{Float64,1}}\nvalues:\n4-element Array{Float64,1}:\n   3.70543724605281\n  42.11575140376253\n  66.89693680190882\n 153.28187454827614\nvectors:\n4×4 Array{Float64,2}:\n -0.743357   0.657847  -0.0776098   0.0929174\n  0.576177   0.542734  -0.503278    0.346656\n -0.282124  -0.398303  -0.858991   -0.154579\n -0.189329  -0.337687   0.0531173   0.92049"
     },
     "execution_count": 55,
     "metadata": {},
     "output_type": "execute_result"
    }
   ],
   "source": [
    "A = symetric_matrix(5);\r\n",
    "A = [22 21 -8 4; 21 49 11 39; -8 11 60 -19; 4 39 -19 135]\r\n",
    "@time λₘₐₓ = power_eigen(A, 10);\r\n",
    "print(λₘₐₓ)\r\n",
    "e, v = eigen(A)"
   ]
  },
  {
   "cell_type": "markdown",
   "metadata": {},
   "source": [
    "Jak widać z wyniku wykonania powyższego kodu, uzyskaliśmy największą co do modułu wartość własną macierzy. Ta wartość zgadza sięz wartością otrzymaną za pomocą metody eigen(A). Za pomocą metody potęgowej można również wyznaczyć najmniejszą co do modułu wartość własną macierzy. Korzysta się z twierdzenia dotyczącego przesunięcia spektrum macierzy:<br />\r\n",
    "### \"Jeżeli $\\lambda$ jest wartością własną macierzy A, to $\\lambda + r$ jest wartością własną macierzy $A + \\tau I$\"\r\n",
    "Po zastosowaniu przesunięcia $B = A - \\lambda_{max}I$ można ponownie zastosować metodę iteracji prostej dla macierzy B zbieżną do największej co do modułu wartości własnej $\\lambda = \\lambda_{min}-\\lambda_{max}$. Stąd można wyznaczyć $\\lambda_{min}$."
   ]
  },
  {
   "cell_type": "code",
   "execution_count": 56,
   "metadata": {},
   "outputs": [
    {
     "name": "stdout",
     "output_type": "stream",
     "text": [
      "  0.000030 seconds (27 allocations: 2.875 KiB)\n"
     ]
    },
    {
     "data": {
      "text/plain": "1×1 Array{Float64,2}:\n 3.7641649496202376"
     },
     "execution_count": 56,
     "metadata": {},
     "output_type": "execute_result"
    }
   ],
   "source": [
    "I = diagonal_matrix(size(A,1))\r\n",
    "B = A - λₘₐₓ .* I\r\n",
    "@time λ = power_eigen(B, 10);\r\n",
    "λₘᵢₙ = λ + λₘₐₓ"
   ]
  },
  {
   "cell_type": "markdown",
   "metadata": {},
   "source": [
    "Mając największą i najmniejszą wartość własną macierzy, można wyznaczyć współczynnik uwarunkowania macierzy:\r\n",
    "$$cond(A)=\\sqrt{\\frac{\\lambda_{max}(A^TA)}{\\lambda_{min}(A^TA)}}$$\r\n",
    "We wzorze przyjęto, że macierz A jest symetryczna, co oznacza, że $A=A^T$, ewentualnie można macierz wejściową doprowadzić do postaci symetrycznej stosując wzór $B = A^TA$"
   ]
  },
  {
   "cell_type": "code",
   "execution_count": 57,
   "metadata": {},
   "outputs": [
    {
     "name": "stdout",
     "output_type": "stream",
     "text": [
      "[6.381328002505951]"
     ]
    },
    {
     "data": {
      "text/plain": "6.431698388238534"
     },
     "execution_count": 57,
     "metadata": {},
     "output_type": "execute_result"
    }
   ],
   "source": [
    "value = custom_cond(λₘₐₓ, λₘᵢₙ)\r\n",
    "print(value)\r\n",
    "\r\n",
    "√cond(A)\r\n"
   ]
  }
 ],
 "metadata": {
  "kernelspec": {
   "display_name": "Julia 1.5.3",
   "language": "julia",
   "name": "julia-1.5"
  },
  "language_info": {
   "file_extension": ".jl",
   "mimetype": "application/julia",
   "name": "julia",
   "version": "1.5.3"
  },
  "orig_nbformat": 2
 },
 "nbformat": 4,
 "nbformat_minor": 2
}