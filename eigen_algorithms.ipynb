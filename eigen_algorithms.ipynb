{
 "cells": [
  {
   "cell_type": "code",
   "execution_count": 1,
   "metadata": {},
   "outputs": [],
   "source": [
    "using LinearAlgebra\r\n",
    "using Statistics"
   ]
  },
  {
   "cell_type": "code",
   "execution_count": 72,
   "metadata": {},
   "outputs": [
    {
     "data": {
      "text/plain": "custom_cond (generic function with 1 method)"
     },
     "execution_count": 72,
     "metadata": {},
     "output_type": "execute_result"
    }
   ],
   "source": [
    "# helper methods\r\n",
    "function symetric_matrix(dim::Integer)::Matrix\r\n",
    "    A = ones(dim,dim);\r\n",
    "    for i = 1:dim\r\n",
    "        for j = 1:dim\r\n",
    "            A[i,j] = rand(1:50);\r\n",
    "            A[j,i] = A[i,j];\r\n",
    "        end\r\n",
    "    end\r\n",
    "    return A;\r\n",
    "end\r\n",
    "\r\n",
    "function random_matrix(dim::Integer)::Matrix\r\n",
    "    A = ones(dim, dim);\r\n",
    "    for i = 1:dim\r\n",
    "        for j = 1:dim\r\n",
    "            A[i,j] = rand(1:50)\r\n",
    "        end\r\n",
    "    end\r\n",
    "    return A\r\n",
    "end\r\n",
    "\r\n",
    "function diagonal_matrix(dim::Integer)::Matrix\r\n",
    "    I = ones(dim,dim)\r\n",
    "    return Diagonal(I)\r\n",
    "end\r\n",
    "\r\n",
    "function custom_cond(λₘₐₓ, λₘᵢₙ)\r\n",
    "    return √(λₘₐₓ/λₘᵢₙ)\r\n",
    "end"
   ]
  },
  {
   "cell_type": "markdown",
   "metadata": {},
   "source": [
    "Poniżej przygotowana jest funkcja do metody iteracji prostej (metoda potęgowa), dzięki której można wyznaczyć największą co do modułu wartość własną, czyli promień spektralny macierzy, który opisany jest wzorem:\r\n",
    "## $$\\rho(A) = |\\lambda_{max}| = \\lim_{i \\to \\infty} \\frac{||t_{i+1}||_{\\infty}}{||t_{i}||_{\\infty}}$$\r\n",
    "\r\n",
    "Przy założeniu, że dowolny wektor początkowy t_{0} != 0, do uzyskania promienia spektralnego prowadzą iteracje postaci:\r\n",
    "## $$t_{i+1} = At_{i},\\ i=0,1,2...$$\r\n",
    "\r\n"
   ]
  },
  {
   "cell_type": "code",
   "execution_count": 3,
   "metadata": {},
   "outputs": [
    {
     "data": {
      "text/plain": "power_eigen_min (generic function with 1 method)"
     },
     "execution_count": 3,
     "metadata": {},
     "output_type": "execute_result"
    }
   ],
   "source": [
    "# metoda potegowa\r\n",
    "function power_eigen(A::Matrix, iterations::Integer)::Array\r\n",
    "    n = size(A, 1);\r\n",
    "    X = ones(n,1);\r\n",
    "    for i = 1:iterations\r\n",
    "        X = A * X;\r\n",
    "        X = X / norm(X);\r\n",
    "    end\r\n",
    "\r\n",
    "    return X' * A * X / (X' * X);\r\n",
    "end\r\n",
    "\r\n",
    "function power_eigen_min(A::Matrix, iterations::Integer)::Array\r\n",
    "    n = size(A, 1);\r\n",
    "    X = ones(n,1);\r\n",
    "    for i = 1:iterations\r\n",
    "        X = A \\ X;\r\n",
    "        X = X / norm(X);\r\n",
    "    end\r\n",
    "\r\n",
    "    return X' * A * X / (X' * X);\r\n",
    "end"
   ]
  },
  {
   "cell_type": "code",
   "execution_count": 65,
   "metadata": {},
   "outputs": [
    {
     "name": "stdout",
     "output_type": "stream",
     "text": [
      "  0.000020 seconds (27 allocations: 3.219 KiB)\n",
      "[141.77545249026366]"
     ]
    },
    {
     "data": {
      "text/plain": "Eigen{Float64,Float64,Array{Float64,2},Array{Float64,1}}\nvalues:\n5-element Array{Float64,1}:\n -34.50244427098533\n   7.642985119979592\n  19.176923313776378\n  36.907083346956085\n 141.77545249027293\nvectors:\n5×5 Array{Float64,2}:\n  0.689578   0.189777   -0.234934  -0.0581557  -0.655661\n -0.283217  -0.145227    0.485928  -0.675547   -0.4541\n -0.136724   0.0934614   0.571198   0.70626    -0.384059\n -0.511222   0.77221    -0.31884   -0.049606   -0.19551\n -0.405252  -0.581249   -0.529862   0.197459   -0.42211"
     },
     "execution_count": 65,
     "metadata": {},
     "output_type": "execute_result"
    }
   ],
   "source": [
    "A = symetric_matrix(5);\r\n",
    "#A = [22 21 -8 4; 21 49 11 39; -8 11 60 -19; 4 39 -19 135]\r\n",
    "@time λₘₐₓ = power_eigen(A, 10);\r\n",
    "print(λₘₐₓ)\r\n",
    "e, v = eigen(A)"
   ]
  },
  {
   "cell_type": "markdown",
   "metadata": {},
   "source": [
    "Jak widać z wyniku wykonania powyższego kodu, uzyskaliśmy największą co do modułu wartość własną macierzy. Ta wartość zgadza sięz wartością otrzymaną za pomocą metody eigen(A). Za pomocą metody potęgowej można również wyznaczyć najmniejszą co do modułu wartość własną macierzy. Korzysta się z twierdzenia dotyczącego przesunięcia spektrum macierzy:<br />\r\n",
    "### \"Jeżeli $\\lambda$ jest wartością własną macierzy A, to $\\lambda + r$ jest wartością własną macierzy $A + \\tau I$\"\r\n",
    "Należy pamiętać, że twierdzenie ma zastosowanie dla macierzy symetrycznych i dodatnio określonych. Po zastosowaniu przesunięcia $B = A - \\lambda_{max}I$ można ponownie zastosować metodę iteracji prostej dla macierzy B zbieżną do największej co do modułu wartości własnej $\\lambda = \\lambda_{min}-\\lambda_{max}$. Stąd można wyznaczyć $\\lambda_{min}$."
   ]
  },
  {
   "cell_type": "code",
   "execution_count": 73,
   "metadata": {},
   "outputs": [
    {
     "data": {
      "text/plain": "1×1 Array{Float64,2}:\n 7.6429851199796"
     },
     "execution_count": 73,
     "metadata": {},
     "output_type": "execute_result"
    }
   ],
   "source": [
    "I = diagonal_matrix(size(A,1))\r\n",
    "# B = A - λₘₐₓ .* I\r\n",
    "# λ = power_eigen(B, 10);\r\n",
    "# λₘᵢₙ = λ + λₘₐₓ\r\n",
    "# print(λₘᵢₙ)\r\n",
    "λₘᵢₙ = power_eigen_min(A,20)"
   ]
  },
  {
   "cell_type": "markdown",
   "metadata": {},
   "source": [
    "Mając największą i najmniejszą wartość własną macierzy, można wyznaczyć współczynnik uwarunkowania macierzy:\r\n",
    "$$cond(A)=\\sqrt{\\frac{\\lambda_{max}(A^TA)}{\\lambda_{min}(A^TA)}}$$\r\n",
    "We wzorze przyjęto, że macierz A jest symetryczna, co oznacza, że $A=A^T$, ewentualnie można macierz wejściową doprowadzić do postaci symetrycznej stosując wzór $B = A^TA$"
   ]
  },
  {
   "cell_type": "code",
   "execution_count": 74,
   "metadata": {},
   "outputs": [
    {
     "name": "stdout",
     "output_type": "stream",
     "text": [
      "[4.306941907538402]"
     ]
    },
    {
     "data": {
      "text/plain": "4.306941907538545"
     },
     "execution_count": 74,
     "metadata": {},
     "output_type": "execute_result"
    }
   ],
   "source": [
    "value = custom_cond(λₘₐₓ, λₘᵢₙ)\r\n",
    "print(value)\r\n",
    "\r\n",
    "√cond(A)\r\n"
   ]
  }
 ],
 "metadata": {
  "kernelspec": {
   "display_name": "Julia 1.5.3",
   "language": "julia",
   "name": "julia-1.5"
  },
  "language_info": {
   "file_extension": ".jl",
   "mimetype": "application/julia",
   "name": "julia",
   "version": "1.5.3"
  },
  "orig_nbformat": 2
 },
 "nbformat": 4,
 "nbformat_minor": 2
}