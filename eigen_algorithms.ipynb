{
 "cells": [
  {
   "cell_type": "code",
   "execution_count": 4,
   "metadata": {},
   "outputs": [],
   "source": [
    "using LinearAlgebra\r\n",
    "using Statistics"
   ]
  },
  {
   "cell_type": "code",
   "execution_count": 5,
   "metadata": {},
   "outputs": [
    {
     "data": {
      "text/plain": "power_eigen (generic function with 1 method)"
     },
     "execution_count": 5,
     "metadata": {},
     "output_type": "execute_result"
    }
   ],
   "source": [
    "function power_eigen(A::Matrix, iterations::Integer)\r\n",
    "    n = size(A, 1);\r\n",
    "    X = ones(n,1);\r\n",
    "    for i = 1:iterations\r\n",
    "        X′ = X;\r\n",
    "        X = A * X;\r\n",
    "        X = X / norm(X);\r\n",
    "    end\r\n",
    "\r\n",
    "    return X' * A * X / (X' * X);\r\n",
    "end"
   ]
  },
  {
   "cell_type": "code",
   "execution_count": 8,
   "metadata": {},
   "outputs": [
    {
     "data": {
      "text/plain": "1×1 Array{Float64,2}:\n 7.831586613392883"
     },
     "execution_count": 8,
     "metadata": {},
     "output_type": "execute_result"
    }
   ],
   "source": [
    "A = [1 4 1;\r\n",
    "     4 3 2;\r\n",
    "     1 2 5]\r\n",
    "value = power_eigen(A, 10)"
   ]
  }
 ],
 "metadata": {
  "kernelspec": {
   "display_name": "Julia 1.5.3",
   "language": "julia",
   "name": "julia-1.5"
  },
  "language_info": {
   "file_extension": ".jl",
   "mimetype": "application/julia",
   "name": "julia",
   "version": "1.5.3"
  },
  "orig_nbformat": 2
 },
 "nbformat": 4,
 "nbformat_minor": 2
}